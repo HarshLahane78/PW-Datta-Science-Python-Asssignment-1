{
 "cells": [
  {
   "cell_type": "code",
   "execution_count": 11,
   "id": "ce03432b-31f4-4280-9d67-e741d2fda161",
   "metadata": {},
   "outputs": [
    {
     "name": "stdout",
     "output_type": "stream",
     "text": [
      "Before swapping:\n",
      "the value of x before swapping : x =  10\n",
      "the value of y before swapping : y =  20\n",
      "After swapping:\n",
      "the value of x after swapping : x =  20\n",
      "the value of y after swapping : y =  10\n"
     ]
    }
   ],
   "source": [
    "#declaring value to variable x\n",
    "x = 10 \n",
    "#declaring value to variable y\n",
    "y = 20\n",
    "\n",
    "#the values of variables before swapping\n",
    "print(\"Before swapping:\")\n",
    "\n",
    "#before swapping the value of x\n",
    "print(\"the value of x before swapping : x = \" ,x)\n",
    "#before swapping the value of y\n",
    "print(\"the value of y before swapping : y = \" ,y)\n",
    "\n",
    "#To swap the values of x & y\n",
    "x,y = y,x\n",
    "\n",
    "#the values of variable after swapping\n",
    "print(\"After swapping:\")\n",
    "\n",
    "#the value of x after swapping\n",
    "print(\"the value of x after swapping : x = \",x)\n",
    "#the value of y after swapping\n",
    "print(\"the value of y after swapping : y = \",y)\n",
    "\n"
   ]
  },
  {
   "cell_type": "code",
   "execution_count": 5,
   "id": "db2f00ba-593e-4a98-90bd-b2b18dc0bfcb",
   "metadata": {},
   "outputs": [
    {
     "name": "stdin",
     "output_type": "stream",
     "text": [
      "the width of rectangle is :  12.3\n",
      "the height of rectangle is :  13.2\n"
     ]
    },
    {
     "name": "stdout",
     "output_type": "stream",
     "text": [
      "the area of rectangle is :  162.36\n"
     ]
    }
   ],
   "source": [
    "#taking input of width for rectangle\n",
    "width = float(input(\"the width of rectangle is : \"))\n",
    "#taking input of height for rectangle\n",
    "height = float(input(\"the height of rectangle is : \"))\n",
    "               \n",
    "#calculating the area of rectangle\n",
    "area = width * height\n",
    "               \n",
    "#declaring the area of rectangle\n",
    "print(\"the area of rectangle is : \",area)\n"
   ]
  },
  {
   "cell_type": "code",
   "execution_count": 6,
   "id": "030c2e50-5e24-49f4-acea-dd654449731b",
   "metadata": {},
   "outputs": [
    {
     "name": "stdin",
     "output_type": "stream",
     "text": [
      "the temperature in celsius is :  42.8\n"
     ]
    },
    {
     "name": "stdout",
     "output_type": "stream",
     "text": [
      "the temperature in fahrenheit will be :  109.03999999999999\n"
     ]
    }
   ],
   "source": [
    "#Taking temperature in celsius as input\n",
    "celsius = float(input(\"the temperature in celsius is : \"))\n",
    "\n",
    "#Converting the temperature from celsius to fahrenheit\n",
    "fahrenheit = ( celsius * 1.8 ) + 32\n",
    "\n",
    "#declaring the converted temperature from celsius to fahrenheit\n",
    "print(\"the temperature in fahrenheit will be : \" ,fahrenheit)"
   ]
  },
  {
   "cell_type": "code",
   "execution_count": 10,
   "id": "0545a288-875f-40a0-a3e7-e1d3738a5a53",
   "metadata": {},
   "outputs": [
    {
     "name": "stdin",
     "output_type": "stream",
     "text": [
      "The string is I will try my best\n"
     ]
    },
    {
     "name": "stdout",
     "output_type": "stream",
     "text": [
      "the length of the string is :  18\n"
     ]
    }
   ],
   "source": [
    "#Taking string as a input\n",
    "String = str(input(\"The string is\"))\n",
    "\n",
    "#printing the length of the string\n",
    "print( \"the length of the string is : \" ,len(String) )"
   ]
  },
  {
   "cell_type": "code",
   "execution_count": 28,
   "id": "51f58d28-8e33-4988-ba84-69fa292cd749",
   "metadata": {},
   "outputs": [
    {
     "name": "stdin",
     "output_type": "stream",
     "text": [
      "Enter a string:  I love my country very much\n"
     ]
    },
    {
     "name": "stdout",
     "output_type": "stream",
     "text": [
      "The number of vowels in the string is :  7\n"
     ]
    }
   ],
   "source": [
    "#Taking string as an input\n",
    "string = input(\"Enter a string: \")\n",
    "\n",
    "#Let us describe the vowels\n",
    "Vowels = ['A', 'E', 'I', 'O', 'U', 'a', 'e', 'i', 'o', 'u']\n",
    "\n",
    "#Start the count of vowels \n",
    "VowelCount = 0\n",
    "\n",
    "#Let us Traverse every character in the string\n",
    "for char in string:\n",
    "    \n",
    "    #If the character is a vowel, increment VowelCount\n",
    "    if char in Vowels:\n",
    "        VowelCount = VowelCount + 1\n",
    "        \n",
    "#print the number of vowels\n",
    "print(\"The number of vowels in the string is : \", VowelCount)\n"
   ]
  },
  {
   "cell_type": "code",
   "execution_count": 41,
   "id": "f25b9ae1-e092-4fb1-aebd-c0a0318190ff",
   "metadata": {},
   "outputs": [
    {
     "name": "stdout",
     "output_type": "stream",
     "text": [
      "The reverse string will be :  ti yfed ot ekil dluow I , dnuor si dlrow eht fI\n"
     ]
    }
   ],
   "source": [
    "#take a string as an input\n",
    "string = \"If the world is round , I would like to defy it\"\n",
    "\n",
    "#printing the string as reverse\n",
    "print(\"The reverse string will be : \",string[50:-48:-1])\n"
   ]
  },
  {
   "cell_type": "code",
   "execution_count": 5,
   "id": "b14be59b-58ab-4a1e-bc20-c3d150dbbba1",
   "metadata": {},
   "outputs": [
    {
     "name": "stdin",
     "output_type": "stream",
     "text": [
      "Enter a string :  madam\n"
     ]
    },
    {
     "name": "stdout",
     "output_type": "stream",
     "text": [
      "String is palindrome\n"
     ]
    }
   ],
   "source": [
    "#take a string as an input\n",
    "string = input(\"Enter a string : \")\n",
    "\n",
    "#reverse the string by slicing\n",
    "reverseStr = string[-1::-1]\n",
    "\n",
    "#let's put a if-else condtion for palindrome strings\n",
    "if string == reverseStr:\n",
    "    print(\"String is palindrome\")\n",
    "        \n",
    "else:\n",
    "     print(\"String is not palindrome\")"
   ]
  },
  {
   "cell_type": "code",
   "execution_count": 7,
   "id": "c8ff1dde-bf0e-49bd-a9a6-db61e8ff3ba4",
   "metadata": {},
   "outputs": [
    {
     "name": "stdin",
     "output_type": "stream",
     "text": [
      "Enter a String :  This is a long run for us\n"
     ]
    },
    {
     "name": "stdout",
     "output_type": "stream",
     "text": [
      "the string without spaces :  Thisisalongrunforus\n"
     ]
    }
   ],
   "source": [
    "#take a string as an input\n",
    "string1 = input(\"Enter a String : \")\n",
    "\n",
    "#take another string to replace spaces , use replace \n",
    "string2 = string1.replace(\" \",\"\")\n",
    "\n",
    "#print the string without spaces\n",
    "print(\"the string without spaces : \",string2)\n"
   ]
  }
 ],
 "metadata": {
  "kernelspec": {
   "display_name": "Python 3 (ipykernel)",
   "language": "python",
   "name": "python3"
  },
  "language_info": {
   "codemirror_mode": {
    "name": "ipython",
    "version": 3
   },
   "file_extension": ".py",
   "mimetype": "text/x-python",
   "name": "python",
   "nbconvert_exporter": "python",
   "pygments_lexer": "ipython3",
   "version": "3.10.8"
  }
 },
 "nbformat": 4,
 "nbformat_minor": 5
}
